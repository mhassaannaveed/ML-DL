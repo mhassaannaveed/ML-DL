{
 "cells": [
  {
   "cell_type": "code",
   "execution_count": 4,
   "id": "2410b7b2",
   "metadata": {},
   "outputs": [
    {
     "name": "stdout",
     "output_type": "stream",
     "text": [
      "Enter your name:hassaan\n",
      "Enter your age:32\n",
      "Enter your email:2\n",
      "Invalid email kindly follow this pattern -name@gmail.com-\n",
      "Enter your email:hassaan@gmail.com\n",
      "Enter your favorite number:4\n",
      "Hello hassaan, You are 32 years old, Your email is hassaan@gmail.com Your fav num is 4\n"
     ]
    }
   ],
   "source": [
    "# Question#1\n",
    "import re\n",
    "name = input('Enter your name:');\n",
    "age = input('Enter your age:');\n",
    "\n",
    "email = input('Enter your email:')\n",
    "regex = r'\\b[A-Za-z0-9._%+-]+@[A-Za-z0-9.-]+\\.[A-Z|a-z]{2,7}\\b' \n",
    "if(re.fullmatch(regex, email)):\n",
    "       userdetails['email'] = email\n",
    "else:\n",
    "        print('Invalid email kindly follow this pattern -name@gmail.com-')\n",
    "        email = input('Enter your email:')\n",
    "        \n",
    "favnum = input('Enter your favorite number:')\n",
    "userdetails ={'username': name, 'userage':age, 'usernum': favnum, 'useremail':email}\n",
    "\n",
    "print('Hello ' + userdetails['username'] + ', '  + 'You are ' + userdetails['userage'] + ' years old, ' \n",
    "      +'Your email is '+ userdetails['useremail'] + ', Your fav num is ' + userdetails['usernum'])\n",
    "\n"
   ]
  },
  {
   "cell_type": "code",
   "execution_count": 15,
   "id": "5d482b6e",
   "metadata": {},
   "outputs": [
    {
     "name": "stdout",
     "output_type": "stream",
     "text": [
      "Enter a number: 5\n",
      "Number is odd\n"
     ]
    }
   ],
   "source": [
    "# Question#2\n",
    "def Is_even(number):\n",
    "    if(number%2 == 0):\n",
    "        print('Number is even')\n",
    "    else:\n",
    "        print('Number is odd')\n",
    "\n",
    "num = int(input('Enter a number: '))\n",
    "Is_even(num)"
   ]
  },
  {
   "cell_type": "code",
   "execution_count": 23,
   "id": "7318f422",
   "metadata": {},
   "outputs": [
    {
     "name": "stdout",
     "output_type": "stream",
     "text": [
      "Enter the Temperature: 32\n",
      "Enter the Scale: C/F = C\n",
      "Converted Temperature 89.6\n"
     ]
    }
   ],
   "source": [
    "# Question#3\n",
    "def convert_temperature(temp,scale):\n",
    "    if(scale == 'F'):\n",
    "        C_temperature = (temp-32)*5/9\n",
    "        return C_temperature\n",
    "    else:\n",
    "        F_temperature = (temp*9/5)+32 \n",
    "        return F_temperature\n",
    "\n",
    "temperature = int(input('Enter the Temperature: '))\n",
    "sca = str(input('Enter the Scale: C/F = '))\n",
    "print('Converted Temperature', convert_temperature(temperature,sca))\n",
    "\n",
    "    \n",
    "            \n"
   ]
  },
  {
   "cell_type": "code",
   "execution_count": 29,
   "id": "1cae8e47",
   "metadata": {},
   "outputs": [
    {
     "name": "stdout",
     "output_type": "stream",
     "text": [
      "Enter the numbers: 55\n",
      "Enter the numbers: 44\n",
      "Enter the numbers: 33\n",
      "Enter the numbers: 2\n",
      "Enter the numbers: 15\n",
      "[55, 44, 33, 2, 15]\n"
     ]
    },
    {
     "data": {
      "text/plain": [
       "(2, 55)"
      ]
     },
     "execution_count": 29,
     "metadata": {},
     "output_type": "execute_result"
    }
   ],
   "source": [
    "# Question#4\n",
    "\n",
    "def find_max_min(numbers):\n",
    "    min_value = numbers[0]\n",
    "    max_value = numbers[0]\n",
    "    for i in range(0,5):\n",
    "        if (numbers[i]<min_value):\n",
    "            min_value=numbers[i]\n",
    "        if (numbers[i]>max_value):\n",
    "            max_value=numbers[i]\n",
    "    return min_value,max_value\n",
    "        \n",
    "numbers = []\n",
    "for i in range(0,5):\n",
    "    num = int(input('Enter the numbers: '))\n",
    "    numbers.append(num)\n",
    "print(numbers)\n",
    "find_max_min(numbers)\n",
    "\n",
    "    "
   ]
  },
  {
   "cell_type": "code",
   "execution_count": 60,
   "id": "f559c2e9",
   "metadata": {},
   "outputs": [
    {
     "name": "stdout",
     "output_type": "stream",
     "text": [
      "Enter the Name: Hassaan\n",
      "Enter the age: 21\n",
      "Enter the grade: A\n",
      "Enter the Name: Ali\n",
      "Enter the age: 33\n",
      "Enter the grade: B\n",
      "Enter the Name: Ahmed\n",
      "Enter the age: 43\n",
      "Enter the grade: B\n",
      "Name: Hassaan, Age: 21, Grade: A\n",
      "Name: Ali, Age: 33, Grade: B\n",
      "Name: Ahmed, Age: 43, Grade: B\n"
     ]
    }
   ],
   "source": [
    "# Question#5\n",
    "\n",
    "users=[]\n",
    "students={}\n",
    "for i in range(0,3):\n",
    "    name = input('Enter the Name: ')\n",
    "    age = int(input('Enter the age: '))\n",
    "    grade = input('Enter the grade: ')\n",
    "    users.append((name,age,grade))\n",
    "for user in users:\n",
    "    name = user[0]\n",
    "    age = user[1]\n",
    "    grade = user[2]\n",
    "    students[name] = (age, grade)\n",
    "\n",
    "for name, details in students.items():\n",
    "    print(f\"Name: {name}, Age: {details[0]}, Grade: {details[1]}\")"
   ]
  },
  {
   "cell_type": "code",
   "execution_count": 88,
   "id": "9e2505b8",
   "metadata": {},
   "outputs": [
    {
     "name": "stdout",
     "output_type": "stream",
     "text": [
      "{'eggs': 100, 'juice': 50, 'candy': 40, 'chips': 30, 'milk': 120}\n",
      "Enter Item name: milk\n",
      "Enter Quantity: 43\n",
      "Enter Item name: juice\n",
      "Enter Quantity: -32\n",
      "Enter Item name: eggs\n",
      "Enter Quantity: 100\n",
      "{'eggs': 200, 'juice': 18, 'candy': 40, 'chips': 30, 'milk': 163}\n"
     ]
    }
   ],
   "source": [
    "# Question#6\n",
    "def update_inventory(inventory, item, quantity):\n",
    "    if inventory[item]>0:\n",
    "        inventory[item] = max(0,quantity+inventory[item])\n",
    "        return inventory\n",
    "    else:\n",
    "        print('Empty')\n",
    "        return inventory\n",
    "    \n",
    "inventory = {\n",
    "    'eggs':100,\n",
    "    'juice':50,\n",
    "    'candy':40,\n",
    "    'chips':30,\n",
    "    'milk':120}\n",
    "print(inventory)\n",
    "\n",
    "for i in range(0,3):\n",
    "    itemname = input('Enter Item name: ')\n",
    "    quantity = int(input('Enter Quantity: '))\n",
    "    update_inventory(inventory,itemname,quantity)\n",
    "print(inventory)"
   ]
  },
  {
   "cell_type": "code",
   "execution_count": null,
   "id": "09f62e02",
   "metadata": {},
   "outputs": [],
   "source": []
  },
  {
   "cell_type": "code",
   "execution_count": null,
   "id": "3c466016",
   "metadata": {},
   "outputs": [],
   "source": []
  }
 ],
 "metadata": {
  "kernelspec": {
   "display_name": "Python 3 (ipykernel)",
   "language": "python",
   "name": "python3"
  },
  "language_info": {
   "codemirror_mode": {
    "name": "ipython",
    "version": 3
   },
   "file_extension": ".py",
   "mimetype": "text/x-python",
   "name": "python",
   "nbconvert_exporter": "python",
   "pygments_lexer": "ipython3",
   "version": "3.11.5"
  }
 },
 "nbformat": 4,
 "nbformat_minor": 5
}
